{
  "nbformat": 4,
  "nbformat_minor": 0,
  "metadata": {
    "colab": {
      "provenance": []
    },
    "kernelspec": {
      "name": "python3",
      "display_name": "Python 3"
    },
    "language_info": {
      "name": "python"
    }
  },
  "cells": [
    {
      "cell_type": "code",
      "execution_count": null,
      "metadata": {
        "id": "xiR0_Hgai2rc"
      },
      "outputs": [],
      "source": [
        "import pandas as pd\n",
        "from textblob import TextBlob\n",
        "\n",
        "# Load raw Q&A\n",
        "df = pd.read_csv('sdsu_faq.csv')\n",
        "\n",
        "# Remove duplicates & irrelevant entries\n",
        "df.drop_duplicates(subset='question', inplace=True)\n",
        "df = df[df['question'].str.len() > 10]  # filter short/noise questions\n",
        "\n",
        "# Normalize text\n",
        "def clean_text(text):\n",
        "    text = text.lower().strip()\n",
        "    text = ''.join(e for e in text if e.isalnum() or e.isspace())\n",
        "    return str(TextBlob(text).correct())\n",
        "\n",
        "df['question'] = df['question'].apply(clean_text)\n",
        "df['answer'] = df['answer'].apply(lambda x: x.strip())\n",
        "\n",
        "# Save cleaned dataset\n",
        "df.to_csv('cleaned_sdsu_faq.csv', index=False)"
      ]
    }
  ]
}