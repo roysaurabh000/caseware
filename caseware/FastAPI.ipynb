{
  "nbformat": 4,
  "nbformat_minor": 0,
  "metadata": {
    "colab": {
      "provenance": []
    },
    "kernelspec": {
      "name": "python3",
      "display_name": "Python 3"
    },
    "language_info": {
      "name": "python"
    }
  },
  "cells": [
    {
      "cell_type": "code",
      "execution_count": null,
      "metadata": {
        "id": "RcDTkbwakGAF"
      },
      "outputs": [],
      "source": [
        "from fastapi import FastAPI, Request\n",
        "import redis\n",
        "import boto3\n",
        "from pydantic import BaseModel\n",
        "from transformers import pipeline\n",
        "\n",
        "app = FastAPI()\n",
        "\n",
        "# Redis\n",
        "r = redis.Redis(host='localhost', port=6379)\n",
        "\n",
        "# SageMaker runtime\n",
        "runtime = boto3.client('sagemaker-runtime')\n",
        "\n",
        "# Intent classifier (local or endpoint)\n",
        "classifier = pipeline(\"text-classification\", model=\"bert-sdsu-intent\")\n",
        "\n",
        "class Query(BaseModel):\n",
        "    question: str\n",
        "\n",
        "@app.post(\"/ask\")\n",
        "async def ask_question(query: Query):\n",
        "    question = query.question.lower().strip()\n",
        "\n",
        "    # 1. Check cache\n",
        "    if r.exists(question):\n",
        "        return {\"source\": \"cache\", \"answer\": r.get(question).decode(\"utf-8\")}\n",
        "\n",
        "    # 2. Predict intent\n",
        "    intent = classifier(question)[0][\"label\"]\n",
        "\n",
        "    # 3. Route to SageMaker\n",
        "    endpoint_map = {\n",
        "        \"Admissions\": \"AdmissionsAgentEndpoint\",\n",
        "        \"Courses\": \"CoursesAgentEndpoint\"\n",
        "    }\n",
        "    endpoint = endpoint_map.get(intent, \"DefaultAgentEndpoint\")\n",
        "\n",
        "    response = runtime.invoke_endpoint(\n",
        "        EndpointName=endpoint,\n",
        "        ContentType=\"application/json\",\n",
        "        Body=f'{{\"inputs\": \"{question}\"}}'\n",
        "    )\n",
        "\n",
        "    answer = response['Body'].read().decode(\"utf-8\")\n",
        "    r.setex(question, 900, answer)  # Cache for 15 mins\n",
        "\n",
        "    return {\"source\": \"model\", \"answer\": answer}"
      ]
    }
  ]
}