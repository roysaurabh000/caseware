{
  "nbformat": 4,
  "nbformat_minor": 0,
  "metadata": {
    "colab": {
      "provenance": []
    },
    "kernelspec": {
      "name": "python3",
      "display_name": "Python 3"
    },
    "language_info": {
      "name": "python"
    }
  },
  "cells": [
    {
      "cell_type": "code",
      "execution_count": null,
      "metadata": {
        "id": "tS8clfeykrN6"
      },
      "outputs": [],
      "source": [
        "#pip install bash first\n",
        "from slowapi import Limiter\n",
        "from slowapi.util import get_remote_address\n",
        "from fastapi.middleware.cors import CORSMiddleware\n",
        "from slowapi.errors import RateLimitExceeded\n",
        "from fastapi.responses import JSONResponse\n",
        "\n",
        "limiter = Limiter(key_func=get_remote_address)\n",
        "app.state.limiter = limiter\n",
        "\n",
        "@app.exception_handler(RateLimitExceeded)\n",
        "async def rate_limit_handler(request, exc):\n",
        "    return JSONResponse(content={\"error\": \"Rate limit exceeded\"}, status_code=429)\n",
        "\n",
        "@app.get(\"/\")\n",
        "@limiter.limit(\"10/minute\")\n",
        "async def root():\n",
        "    return {\"message\": \"Welcome to SDSU Chatbot\"}"
      ]
    }
  ]
}