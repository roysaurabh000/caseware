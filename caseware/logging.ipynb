{
  "nbformat": 4,
  "nbformat_minor": 0,
  "metadata": {
    "colab": {
      "provenance": []
    },
    "kernelspec": {
      "name": "python3",
      "display_name": "Python 3"
    },
    "language_info": {
      "name": "python"
    }
  },
  "cells": [
    {
      "cell_type": "code",
      "execution_count": null,
      "metadata": {
        "id": "mQ2nYoEgk5HA"
      },
      "outputs": [],
      "source": [
        "import logging\n",
        "\n",
        "logging.basicConfig(filename='logs.txt', level=logging.INFO)\n",
        "\n",
        "@app.post(\"/ask\")\n",
        "async def ask_question(query: Query):\n",
        "    logging.info(f\"User asked: {query.question}\")\n",
        "    ..."
      ]
    }
  ]
}